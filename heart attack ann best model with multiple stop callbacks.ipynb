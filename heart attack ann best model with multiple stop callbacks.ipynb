{
 "cells": [
  {
   "cell_type": "code",
   "execution_count": 1,
   "id": "4dcfbba6",
   "metadata": {},
   "outputs": [],
   "source": [
    "import numpy as np\n",
    "import pandas as pd\n",
    "import tensorflow as tf\n",
    "from sklearn.pipeline import make_pipeline\n",
    "from sklearn.preprocessing import StandardScaler, OneHotEncoder\n",
    "from sklearn.compose import make_column_transformer\n",
    "from sklearn.model_selection import train_test_split\n",
    "import time\n",
    "import warnings\n",
    "warnings.filterwarnings('ignore')"
   ]
  },
  {
   "cell_type": "code",
   "execution_count": 2,
   "id": "cdadfcb6",
   "metadata": {},
   "outputs": [],
   "source": [
    "dataset = pd.read_csv('heart.csv')"
   ]
  },
  {
   "cell_type": "code",
   "execution_count": 3,
   "id": "a8685602",
   "metadata": {},
   "outputs": [],
   "source": [
    "X=dataset.drop(['output'],axis=1)\n",
    "y = dataset.output"
   ]
  },
  {
   "cell_type": "code",
   "execution_count": 4,
   "id": "fc26912d",
   "metadata": {},
   "outputs": [],
   "source": [
    "import numpy as np\n",
    "np.random.seed(2)\n",
    "features_num = [\"age\",\"trtbps\",\"chol\",\"thalachh\",\"oldpeak\"]\n",
    "\n",
    "features_cat = ['sex','exng','caa','cp','fbs','restecg','slp','thall']\n",
    "random_state=2\n",
    "\n",
    "transformer_num = make_pipeline(\n",
    "    StandardScaler(),\n",
    ")\n",
    "\n",
    "transformer_cat = make_pipeline(\n",
    "    OneHotEncoder(handle_unknown='ignore'),\n",
    ")\n",
    "\n",
    "preprocessor = make_column_transformer(\n",
    "    (transformer_num, features_num),\n",
    "    (transformer_cat, features_cat),\n",
    ")\n",
    "\n",
    "X_train, X_valid, y_train, y_valid =train_test_split(X, y, train_size=0.75)\n",
    "\n",
    "X_train = preprocessor.fit_transform(X_train)\n",
    "X_valid = preprocessor.transform(X_valid)"
   ]
  },
  {
   "cell_type": "code",
   "execution_count": 5,
   "id": "9674364d",
   "metadata": {},
   "outputs": [
    {
     "data": {
      "text/plain": [
       "array([[-0.84660682, -0.08794159,  0.09878778, ...,  0.        ,\n",
       "         1.        ,  0.        ],\n",
       "       [-0.51753191, -0.14385963, -0.98905483, ...,  0.        ,\n",
       "         1.        ,  0.        ],\n",
       "       [ 0.57938447,  0.75082902,  0.65225156, ...,  0.        ,\n",
       "         0.        ,  1.        ],\n",
       "       ...,\n",
       "       [-2.8210563 , -0.08794159, -0.83637517, ...,  0.        ,\n",
       "         1.        ,  0.        ],\n",
       "       [-0.51753191, -0.64712199, -0.55010079, ...,  0.        ,\n",
       "         1.        ,  0.        ],\n",
       "       [ 0.90845938, -0.08794159,  0.11787274, ...,  0.        ,\n",
       "         0.        ,  1.        ]])"
      ]
     },
     "execution_count": 5,
     "metadata": {},
     "output_type": "execute_result"
    }
   ],
   "source": [
    "X_train"
   ]
  },
  {
   "cell_type": "code",
   "execution_count": 6,
   "id": "34922e0b",
   "metadata": {},
   "outputs": [
    {
     "data": {
      "text/plain": [
       "array([ 0.57938447,  0.75082902,  0.65225156, -0.33481738,  1.46180457,\n",
       "        0.        ,  1.        ,  0.        ,  1.        ,  0.        ,\n",
       "        0.        ,  1.        ,  0.        ,  0.        ,  1.        ,\n",
       "        0.        ,  0.        ,  0.        ,  1.        ,  0.        ,\n",
       "        1.        ,  0.        ,  0.        ,  0.        ,  1.        ,\n",
       "        0.        ,  0.        ,  0.        ,  0.        ,  1.        ])"
      ]
     },
     "execution_count": 6,
     "metadata": {},
     "output_type": "execute_result"
    }
   ],
   "source": [
    "X_train[2]"
   ]
  },
  {
   "cell_type": "code",
   "execution_count": 7,
   "id": "e167afd2",
   "metadata": {},
   "outputs": [],
   "source": [
    "tf.keras.utils.set_random_seed(1337)"
   ]
  },
  {
   "cell_type": "code",
   "execution_count": 8,
   "id": "b3be041c",
   "metadata": {},
   "outputs": [],
   "source": [
    "ann = tf.keras.models.Sequential()"
   ]
  },
  {
   "cell_type": "code",
   "execution_count": 9,
   "id": "ac2da86a",
   "metadata": {},
   "outputs": [],
   "source": [
    "input_shape = [X_train.shape[1]]"
   ]
  },
  {
   "cell_type": "code",
   "execution_count": 10,
   "id": "98d4cbc1",
   "metadata": {},
   "outputs": [],
   "source": [
    "ann.add(tf.keras.layers.Dense(units=13, activation='relu',\n",
    "                              input_shape=input_shape))\n",
    "ann.add(tf.keras.layers.Dense(units=8, activation='relu'))\n",
    "ann.add(tf.keras.layers.Dense(units=16, activation='relu'))\n",
    "ann.add(tf.keras.layers.Dense(units=16, activation='relu'))\n",
    "ann.add(tf.keras.layers.Dense(units=8, activation='relu'))\n",
    "ann.add(tf.keras.layers.Dense(units=1, activation='sigmoid'))\n",
    "ann.compile(optimizer = 'adam', loss = 'binary_crossentropy', \n",
    "            metrics = ['accuracy'])"
   ]
  },
  {
   "cell_type": "raw",
   "id": "1e8b2ba4",
   "metadata": {},
   "source": [
    "https://machinelearningmastery.com/how-to-stop-training-deep-neural-networks-at-the-right-time-using-early-stopping/\n"
   ]
  },
  {
   "cell_type": "raw",
   "id": "e5035095",
   "metadata": {},
   "source": [
    "https://towardsdatascience.com/a-practical-introduction-to-early-stopping-in-machine-learning-550ac88bc8fd"
   ]
  },
  {
   "cell_type": "raw",
   "id": "b9c25551",
   "metadata": {},
   "source": [
    "Adding Early Stopping\n",
    "\n",
    "The Keras module contains a built-in callback designed for Early Stopping.\n",
    "\n",
    "Customizing Early Stopping\n",
    "\n",
    "EarlyStopping() has a few options and by default:\n",
    "\n",
    "monitor='val_loss': to use validation loss as performance measure to terminate the training.\n",
    "\n",
    "patience=0: is the number of epochs with no improvement. The value 0 means the training is terminated as soon as the performance measure gets worse from one epoch to the next.\n",
    "\n",
    "min_delta: Minimum change in the monitored quantity to qualify as an improvement, i.e. an absolute change of less than min_delta, will count as no improvement.\n",
    "\n",
    "mode='auto': Should be one of auto, min or max. \n",
    "\n",
    "In 'min' mode, training will stop when the quantity monitored has stopped decreasing; \n",
    "\n",
    "in 'max' mode it will stop when the quantity monitored has stopped increasing; \n",
    "\n",
    "in 'auto' mode, the direction is automatically inferred from the name of the monitored quantity.\n"
   ]
  },
  {
   "cell_type": "code",
   "execution_count": 11,
   "id": "f296fbe5",
   "metadata": {},
   "outputs": [],
   "source": [
    "early_stopping1 = tf.keras.callbacks.EarlyStopping(\n",
    "    monitor='loss',\n",
    "    patience=10,\n",
    "    min_delta=0.01,\n",
    "    restore_best_weights=True,\n",
    "    mode='min'\n",
    ") \n",
    "\n",
    "ACCURACY_THRESHOLD = 0.91\n",
    "\n",
    "class myCallback(tf.keras.callbacks.Callback): \n",
    "    def on_epoch_end(self, epoch, logs={}): \n",
    "        if(logs.get('accuracy') > ACCURACY_THRESHOLD):   \n",
    "            self.model.stop_training = True\n",
    "        \n",
    "early_stopping2= myCallback()"
   ]
  },
  {
   "cell_type": "code",
   "execution_count": 12,
   "id": "e79779cd",
   "metadata": {},
   "outputs": [
    {
     "name": "stdout",
     "output_type": "stream",
     "text": [
      "Epoch 1/140\n",
      "2/2 [==============================] - 0s 10ms/step - loss: 0.6925 - accuracy: 0.5374\n",
      "Epoch 2/140\n",
      "2/2 [==============================] - 0s 2ms/step - loss: 0.6891 - accuracy: 0.5771\n",
      "Epoch 3/140\n",
      "2/2 [==============================] - 0s 2ms/step - loss: 0.6859 - accuracy: 0.5859\n",
      "Epoch 4/140\n",
      "2/2 [==============================] - 0s 2ms/step - loss: 0.6827 - accuracy: 0.5859\n",
      "Epoch 5/140\n",
      "2/2 [==============================] - 0s 2ms/step - loss: 0.6791 - accuracy: 0.5815\n",
      "Epoch 6/140\n",
      "2/2 [==============================] - 0s 2ms/step - loss: 0.6759 - accuracy: 0.5859\n",
      "Epoch 7/140\n",
      "2/2 [==============================] - 0s 999us/step - loss: 0.6723 - accuracy: 0.5815\n",
      "Epoch 8/140\n",
      "2/2 [==============================] - 0s 3ms/step - loss: 0.6684 - accuracy: 0.5815\n",
      "Epoch 9/140\n",
      "2/2 [==============================] - 0s 2ms/step - loss: 0.6639 - accuracy: 0.5683\n",
      "Epoch 10/140\n",
      "2/2 [==============================] - 0s 996us/step - loss: 0.6598 - accuracy: 0.5683\n",
      "Epoch 11/140\n",
      "2/2 [==============================] - 0s 2ms/step - loss: 0.6551 - accuracy: 0.5727\n",
      "Epoch 12/140\n",
      "2/2 [==============================] - 0s 2ms/step - loss: 0.6499 - accuracy: 0.5727\n",
      "Epoch 13/140\n",
      "2/2 [==============================] - 0s 2ms/step - loss: 0.6444 - accuracy: 0.5771\n",
      "Epoch 14/140\n",
      "2/2 [==============================] - 0s 998us/step - loss: 0.6391 - accuracy: 0.5903\n",
      "Epoch 15/140\n",
      "2/2 [==============================] - 0s 3ms/step - loss: 0.6332 - accuracy: 0.5991\n",
      "Epoch 16/140\n",
      "2/2 [==============================] - 0s 1ms/step - loss: 0.6264 - accuracy: 0.6035\n",
      "Epoch 17/140\n",
      "2/2 [==============================] - 0s 2ms/step - loss: 0.6204 - accuracy: 0.6256\n",
      "Epoch 18/140\n",
      "2/2 [==============================] - 0s 996us/step - loss: 0.6140 - accuracy: 0.6476\n",
      "Epoch 19/140\n",
      "2/2 [==============================] - 0s 2ms/step - loss: 0.6070 - accuracy: 0.6520\n",
      "Epoch 20/140\n",
      "2/2 [==============================] - 0s 2ms/step - loss: 0.6002 - accuracy: 0.6696\n",
      "Epoch 21/140\n",
      "2/2 [==============================] - 0s 3ms/step - loss: 0.5932 - accuracy: 0.6916\n",
      "Epoch 22/140\n",
      "2/2 [==============================] - 0s 998us/step - loss: 0.5856 - accuracy: 0.7048\n",
      "Epoch 23/140\n",
      "2/2 [==============================] - 0s 3ms/step - loss: 0.5787 - accuracy: 0.7137\n",
      "Epoch 24/140\n",
      "2/2 [==============================] - 0s 997us/step - loss: 0.5706 - accuracy: 0.7269\n",
      "Epoch 25/140\n",
      "2/2 [==============================] - 0s 2ms/step - loss: 0.5631 - accuracy: 0.7313\n",
      "Epoch 26/140\n",
      "2/2 [==============================] - 0s 997us/step - loss: 0.5547 - accuracy: 0.7489\n",
      "Epoch 27/140\n",
      "2/2 [==============================] - 0s 3ms/step - loss: 0.5465 - accuracy: 0.7577\n",
      "Epoch 28/140\n",
      "2/2 [==============================] - 0s 998us/step - loss: 0.5382 - accuracy: 0.7665\n",
      "Epoch 29/140\n",
      "2/2 [==============================] - 0s 2ms/step - loss: 0.5300 - accuracy: 0.7665\n",
      "Epoch 30/140\n",
      "2/2 [==============================] - 0s 998us/step - loss: 0.5215 - accuracy: 0.7753\n",
      "Epoch 31/140\n",
      "2/2 [==============================] - 0s 2ms/step - loss: 0.5124 - accuracy: 0.7885\n",
      "Epoch 32/140\n",
      "2/2 [==============================] - 0s 2ms/step - loss: 0.5023 - accuracy: 0.8062\n",
      "Epoch 33/140\n",
      "2/2 [==============================] - 0s 997us/step - loss: 0.4929 - accuracy: 0.8062\n",
      "Epoch 34/140\n",
      "2/2 [==============================] - 0s 2ms/step - loss: 0.4821 - accuracy: 0.8106\n",
      "Epoch 35/140\n",
      "2/2 [==============================] - 0s 2ms/step - loss: 0.4721 - accuracy: 0.8194\n",
      "Epoch 36/140\n",
      "2/2 [==============================] - 0s 2ms/step - loss: 0.4617 - accuracy: 0.8106\n",
      "Epoch 37/140\n",
      "2/2 [==============================] - 0s 2ms/step - loss: 0.4516 - accuracy: 0.8150\n",
      "Epoch 38/140\n",
      "2/2 [==============================] - 0s 997us/step - loss: 0.4439 - accuracy: 0.8150\n",
      "Epoch 39/140\n",
      "2/2 [==============================] - 0s 2ms/step - loss: 0.4359 - accuracy: 0.8150\n",
      "Epoch 40/140\n",
      "2/2 [==============================] - 0s 997us/step - loss: 0.4280 - accuracy: 0.8150\n",
      "Epoch 41/140\n",
      "2/2 [==============================] - 0s 2ms/step - loss: 0.4210 - accuracy: 0.8238\n",
      "Epoch 42/140\n",
      "2/2 [==============================] - 0s 997us/step - loss: 0.4146 - accuracy: 0.8194\n",
      "Epoch 43/140\n",
      "2/2 [==============================] - 0s 3ms/step - loss: 0.4075 - accuracy: 0.8238\n",
      "Epoch 44/140\n",
      "2/2 [==============================] - 0s 998us/step - loss: 0.4016 - accuracy: 0.8238\n",
      "Epoch 45/140\n",
      "2/2 [==============================] - 0s 2ms/step - loss: 0.3971 - accuracy: 0.8326\n",
      "Epoch 46/140\n",
      "2/2 [==============================] - 0s 2ms/step - loss: 0.3914 - accuracy: 0.8370\n",
      "Epoch 47/140\n",
      "2/2 [==============================] - 0s 2ms/step - loss: 0.3865 - accuracy: 0.8370\n",
      "Epoch 48/140\n",
      "2/2 [==============================] - 0s 996us/step - loss: 0.3813 - accuracy: 0.8370\n",
      "Epoch 49/140\n",
      "2/2 [==============================] - 0s 997us/step - loss: 0.3773 - accuracy: 0.8458\n",
      "Epoch 50/140\n",
      "2/2 [==============================] - 0s 3ms/step - loss: 0.3731 - accuracy: 0.8414\n",
      "Epoch 51/140\n",
      "2/2 [==============================] - 0s 997us/step - loss: 0.3681 - accuracy: 0.8414\n",
      "Epoch 52/140\n",
      "2/2 [==============================] - 0s 2ms/step - loss: 0.3644 - accuracy: 0.8502\n",
      "Epoch 53/140\n",
      "2/2 [==============================] - 0s 2ms/step - loss: 0.3605 - accuracy: 0.8502\n",
      "Epoch 54/140\n",
      "2/2 [==============================] - 0s 997us/step - loss: 0.3562 - accuracy: 0.8546\n",
      "Epoch 55/140\n",
      "2/2 [==============================] - 0s 997us/step - loss: 0.3530 - accuracy: 0.8502\n",
      "Epoch 56/140\n",
      "2/2 [==============================] - 0s 2ms/step - loss: 0.3493 - accuracy: 0.8546\n",
      "Epoch 57/140\n",
      "2/2 [==============================] - 0s 997us/step - loss: 0.3456 - accuracy: 0.8546\n",
      "Epoch 58/140\n",
      "2/2 [==============================] - 0s 997us/step - loss: 0.3424 - accuracy: 0.8634\n",
      "Epoch 59/140\n",
      "2/2 [==============================] - 0s 3ms/step - loss: 0.3388 - accuracy: 0.8678\n",
      "Epoch 60/140\n",
      "2/2 [==============================] - 0s 2ms/step - loss: 0.3349 - accuracy: 0.8722\n",
      "Epoch 61/140\n",
      "2/2 [==============================] - 0s 998us/step - loss: 0.3315 - accuracy: 0.8767\n",
      "Epoch 62/140\n",
      "2/2 [==============================] - 0s 2ms/step - loss: 0.3279 - accuracy: 0.8767\n",
      "Epoch 63/140\n",
      "2/2 [==============================] - 0s 994us/step - loss: 0.3242 - accuracy: 0.8767\n",
      "Epoch 64/140\n",
      "2/2 [==============================] - 0s 996us/step - loss: 0.3212 - accuracy: 0.8767\n",
      "Epoch 65/140\n",
      "2/2 [==============================] - 0s 2ms/step - loss: 0.3177 - accuracy: 0.8767\n",
      "Epoch 66/140\n",
      "2/2 [==============================] - 0s 2ms/step - loss: 0.3143 - accuracy: 0.8811\n",
      "Epoch 67/140\n",
      "2/2 [==============================] - 0s 2ms/step - loss: 0.3111 - accuracy: 0.8811\n",
      "Epoch 68/140\n",
      "2/2 [==============================] - 0s 2ms/step - loss: 0.3067 - accuracy: 0.8811\n",
      "Epoch 69/140\n",
      "2/2 [==============================] - 0s 2ms/step - loss: 0.3037 - accuracy: 0.8767\n",
      "Epoch 70/140\n",
      "2/2 [==============================] - 0s 1ms/step - loss: 0.3003 - accuracy: 0.8767\n",
      "Epoch 71/140\n",
      "2/2 [==============================] - 0s 996us/step - loss: 0.2968 - accuracy: 0.8767\n",
      "Epoch 72/140\n",
      "2/2 [==============================] - 0s 3ms/step - loss: 0.2937 - accuracy: 0.8767\n",
      "Epoch 73/140\n",
      "2/2 [==============================] - 0s 2ms/step - loss: 0.2901 - accuracy: 0.8722\n",
      "Epoch 74/140\n",
      "2/2 [==============================] - 0s 997us/step - loss: 0.2868 - accuracy: 0.8722\n",
      "Epoch 75/140\n",
      "2/2 [==============================] - 0s 2ms/step - loss: 0.2838 - accuracy: 0.8767\n",
      "Epoch 76/140\n",
      "2/2 [==============================] - 0s 2ms/step - loss: 0.2804 - accuracy: 0.8767\n",
      "Epoch 77/140\n",
      "2/2 [==============================] - 0s 997us/step - loss: 0.2770 - accuracy: 0.8767\n",
      "Epoch 78/140\n",
      "2/2 [==============================] - 0s 2ms/step - loss: 0.2740 - accuracy: 0.8767\n",
      "Epoch 79/140\n",
      "2/2 [==============================] - 0s 2ms/step - loss: 0.2704 - accuracy: 0.8767\n",
      "Epoch 80/140\n",
      "2/2 [==============================] - 0s 997us/step - loss: 0.2674 - accuracy: 0.8811\n",
      "Epoch 81/140\n",
      "2/2 [==============================] - 0s 994us/step - loss: 0.2641 - accuracy: 0.8811\n",
      "Epoch 82/140\n",
      "2/2 [==============================] - 0s 2ms/step - loss: 0.2607 - accuracy: 0.8811\n",
      "Epoch 83/140\n",
      "2/2 [==============================] - 0s 3ms/step - loss: 0.2576 - accuracy: 0.8855\n",
      "Epoch 84/140\n"
     ]
    },
    {
     "name": "stdout",
     "output_type": "stream",
     "text": [
      "2/2 [==============================] - 0s 997us/step - loss: 0.2549 - accuracy: 0.8899\n",
      "Epoch 85/140\n",
      "2/2 [==============================] - 0s 2ms/step - loss: 0.2523 - accuracy: 0.8899\n",
      "Epoch 86/140\n",
      "2/2 [==============================] - 0s 997us/step - loss: 0.2486 - accuracy: 0.8855\n",
      "Epoch 87/140\n",
      "2/2 [==============================] - 0s 2ms/step - loss: 0.2458 - accuracy: 0.8899\n",
      "Epoch 88/140\n",
      "2/2 [==============================] - 0s 1ms/step - loss: 0.2426 - accuracy: 0.8855\n",
      "Epoch 89/140\n",
      "2/2 [==============================] - 0s 998us/step - loss: 0.2394 - accuracy: 0.8943\n",
      "Epoch 90/140\n",
      "2/2 [==============================] - 0s 997us/step - loss: 0.2363 - accuracy: 0.9031\n",
      "Epoch 91/140\n",
      "2/2 [==============================] - 0s 3ms/step - loss: 0.2336 - accuracy: 0.9031\n",
      "Epoch 92/140\n",
      "2/2 [==============================] - 0s 998us/step - loss: 0.2302 - accuracy: 0.9031\n",
      "Epoch 93/140\n",
      "2/2 [==============================] - 0s 2ms/step - loss: 0.2272 - accuracy: 0.9031\n",
      "Epoch 94/140\n",
      "2/2 [==============================] - 0s 997us/step - loss: 0.2243 - accuracy: 0.9119\n"
     ]
    }
   ],
   "source": [
    "start=time.time()\n",
    "ann.fit(X_train,\n",
    "        y_train,\n",
    "        batch_size = 128,\n",
    "        epochs = 140,\n",
    "        callbacks=[early_stopping1,early_stopping2])\n",
    "end=time.time()\n",
    "sure=end-start"
   ]
  },
  {
   "cell_type": "code",
   "execution_count": null,
   "id": "454e3e1d",
   "metadata": {},
   "outputs": [],
   "source": [
    "sure"
   ]
  },
  {
   "cell_type": "code",
   "execution_count": 13,
   "id": "e1dfa729",
   "metadata": {},
   "outputs": [
    {
     "name": "stdout",
     "output_type": "stream",
     "text": [
      "8/8 [==============================] - 0s 854us/step - loss: 0.2216 - accuracy: 0.9119\n",
      "Kalp Krizi Tahmini Model egitim Başarısı: [0.2215624898672104, 0.9118942618370056]\n"
     ]
    }
   ],
   "source": [
    "print(f'Kalp Krizi Tahmini Model egitim Başarısı: {ann.evaluate(X_train,y_train)}')"
   ]
  },
  {
   "cell_type": "code",
   "execution_count": 14,
   "id": "8cae08f3",
   "metadata": {},
   "outputs": [
    {
     "name": "stdout",
     "output_type": "stream",
     "text": [
      "3/3 [==============================] - 0s 1ms/step - loss: 0.3010 - accuracy: 0.8816\n",
      "Kalp Krizi Tahmini Model Test Başarısı: [0.30102217197418213, 0.8815789222717285]\n"
     ]
    }
   ],
   "source": [
    "print(f'Kalp Krizi Tahmini Model Test Başarısı: {ann.evaluate(X_valid,y_valid)}')"
   ]
  },
  {
   "cell_type": "code",
   "execution_count": 15,
   "id": "5e4becbc",
   "metadata": {},
   "outputs": [
    {
     "data": {
      "text/plain": [
       "0.030299999999999994"
      ]
     },
     "execution_count": 15,
     "metadata": {},
     "output_type": "execute_result"
    }
   ],
   "source": [
    "0.9119-0.8816"
   ]
  },
  {
   "cell_type": "code",
   "execution_count": null,
   "id": "2c56156b",
   "metadata": {},
   "outputs": [],
   "source": [
    "help(tf)"
   ]
  },
  {
   "cell_type": "code",
   "execution_count": 16,
   "id": "84926ef4",
   "metadata": {},
   "outputs": [],
   "source": [
    "from tensorflow.keras.models import load_model"
   ]
  },
  {
   "cell_type": "code",
   "execution_count": 17,
   "id": "a8bdb8a5",
   "metadata": {},
   "outputs": [],
   "source": [
    "ann.save('heart_attack_model.h5')"
   ]
  },
  {
   "cell_type": "code",
   "execution_count": 18,
   "id": "0301afb9",
   "metadata": {},
   "outputs": [],
   "source": [
    "new_model = load_model('heart_attack_model.h5')"
   ]
  },
  {
   "cell_type": "code",
   "execution_count": 19,
   "id": "96683cf3",
   "metadata": {},
   "outputs": [
    {
     "data": {
      "text/plain": [
       "array([[-0.188457  , -0.08794159, -0.03480693,  1.02946167, -0.88091602,\n",
       "         0.        ,  1.        ,  1.        ,  0.        ,  0.        ,\n",
       "         0.        ,  0.        ,  1.        ,  0.        ,  0.        ,\n",
       "         0.        ,  1.        ,  0.        ,  0.        ,  1.        ,\n",
       "         1.        ,  0.        ,  0.        ,  0.        ,  0.        ,\n",
       "         1.        ,  0.        ,  0.        ,  1.        ,  0.        ]])"
      ]
     },
     "execution_count": 19,
     "metadata": {},
     "output_type": "execute_result"
    }
   ],
   "source": [
    "X_valid[:1]"
   ]
  },
  {
   "cell_type": "code",
   "execution_count": 20,
   "id": "5999f35e",
   "metadata": {},
   "outputs": [
    {
     "data": {
      "text/plain": [
       "array([-0.188457  , -0.08794159, -0.03480693,  1.02946167, -0.88091602,\n",
       "        0.        ,  1.        ,  1.        ,  0.        ,  0.        ,\n",
       "        0.        ,  0.        ,  1.        ,  0.        ,  0.        ,\n",
       "        0.        ,  1.        ,  0.        ,  0.        ,  1.        ,\n",
       "        1.        ,  0.        ,  0.        ,  0.        ,  0.        ,\n",
       "        1.        ,  0.        ,  0.        ,  1.        ,  0.        ])"
      ]
     },
     "execution_count": 20,
     "metadata": {},
     "output_type": "execute_result"
    }
   ],
   "source": [
    "X_valid[0]"
   ]
  },
  {
   "cell_type": "code",
   "execution_count": 21,
   "id": "7a710003",
   "metadata": {},
   "outputs": [
    {
     "name": "stdout",
     "output_type": "stream",
     "text": [
      "1/1 [==============================] - 0s 64ms/step\n"
     ]
    },
    {
     "data": {
      "text/plain": [
       "array([[0.95741785]], dtype=float32)"
      ]
     },
     "execution_count": 21,
     "metadata": {},
     "output_type": "execute_result"
    }
   ],
   "source": [
    "new_model.predict(X_valid[:1])"
   ]
  },
  {
   "cell_type": "code",
   "execution_count": 23,
   "id": "c8ef4769",
   "metadata": {},
   "outputs": [
    {
     "data": {
      "text/plain": [
       "99     1\n",
       "296    0\n",
       "89     1\n",
       "30     1\n",
       "234    0\n",
       "      ..\n",
       "163    1\n",
       "203    0\n",
       "201    0\n",
       "54     1\n",
       "4      1\n",
       "Name: output, Length: 76, dtype: int64"
      ]
     },
     "execution_count": 23,
     "metadata": {},
     "output_type": "execute_result"
    }
   ],
   "source": [
    "y_valid"
   ]
  },
  {
   "cell_type": "code",
   "execution_count": 25,
   "id": "880d37c6",
   "metadata": {},
   "outputs": [
    {
     "data": {
      "text/plain": [
       "76"
      ]
     },
     "execution_count": 25,
     "metadata": {},
     "output_type": "execute_result"
    }
   ],
   "source": [
    "len(X_valid)"
   ]
  },
  {
   "cell_type": "code",
   "execution_count": 24,
   "id": "232a2a4a",
   "metadata": {},
   "outputs": [
    {
     "name": "stdout",
     "output_type": "stream",
     "text": [
      "3/3 [==============================] - 0s 998us/step\n"
     ]
    },
    {
     "data": {
      "text/plain": [
       "array([[0.95741785],\n",
       "       [0.95436454],\n",
       "       [0.89148045],\n",
       "       [0.98473966],\n",
       "       [0.04931707],\n",
       "       [0.08463765],\n",
       "       [0.9910555 ],\n",
       "       [0.7299789 ],\n",
       "       [0.03751437],\n",
       "       [0.8733732 ],\n",
       "       [0.01713705],\n",
       "       [0.9908648 ],\n",
       "       [0.06813556],\n",
       "       [0.01201845],\n",
       "       [0.9955396 ],\n",
       "       [0.99017537],\n",
       "       [0.03391096],\n",
       "       [0.9873282 ],\n",
       "       [0.01097753],\n",
       "       [0.07975142],\n",
       "       [0.9223025 ],\n",
       "       [0.9323518 ],\n",
       "       [0.16073677],\n",
       "       [0.5412603 ],\n",
       "       [0.03420552],\n",
       "       [0.9800711 ],\n",
       "       [0.9972645 ],\n",
       "       [0.075269  ],\n",
       "       [0.09587487],\n",
       "       [0.9875573 ],\n",
       "       [0.98439676],\n",
       "       [0.9973967 ],\n",
       "       [0.19775283],\n",
       "       [0.08906271],\n",
       "       [0.9669225 ],\n",
       "       [0.00607961],\n",
       "       [0.9196275 ],\n",
       "       [0.8689356 ],\n",
       "       [0.03594502],\n",
       "       [0.0774895 ],\n",
       "       [0.9980506 ],\n",
       "       [0.962878  ],\n",
       "       [0.05507975],\n",
       "       [0.01701274],\n",
       "       [0.9962879 ],\n",
       "       [0.07064691],\n",
       "       [0.10721869],\n",
       "       [0.8583067 ],\n",
       "       [0.94135493],\n",
       "       [0.8996351 ],\n",
       "       [0.9960572 ],\n",
       "       [0.9984238 ],\n",
       "       [0.3743782 ],\n",
       "       [0.07252949],\n",
       "       [0.00863599],\n",
       "       [0.04700295],\n",
       "       [0.08121039],\n",
       "       [0.98649573],\n",
       "       [0.9750641 ],\n",
       "       [0.38374227],\n",
       "       [0.5809657 ],\n",
       "       [0.04243086],\n",
       "       [0.08599029],\n",
       "       [0.9085082 ],\n",
       "       [0.3454094 ],\n",
       "       [0.9845296 ],\n",
       "       [0.7981889 ],\n",
       "       [0.8052241 ],\n",
       "       [0.44987544],\n",
       "       [0.99501026],\n",
       "       [0.04677622],\n",
       "       [0.9984238 ],\n",
       "       [0.08026036],\n",
       "       [0.01149876],\n",
       "       [0.9934217 ],\n",
       "       [0.8497929 ]], dtype=float32)"
      ]
     },
     "execution_count": 24,
     "metadata": {},
     "output_type": "execute_result"
    }
   ],
   "source": [
    "predictions = new_model.predict(X_valid)\n",
    "predictions"
   ]
  },
  {
   "cell_type": "code",
   "execution_count": 26,
   "id": "ee17145a",
   "metadata": {},
   "outputs": [
    {
     "data": {
      "text/html": [
       "<div>\n",
       "<style scoped>\n",
       "    .dataframe tbody tr th:only-of-type {\n",
       "        vertical-align: middle;\n",
       "    }\n",
       "\n",
       "    .dataframe tbody tr th {\n",
       "        vertical-align: top;\n",
       "    }\n",
       "\n",
       "    .dataframe thead th {\n",
       "        text-align: right;\n",
       "    }\n",
       "</style>\n",
       "<table border=\"1\" class=\"dataframe\">\n",
       "  <thead>\n",
       "    <tr style=\"text-align: right;\">\n",
       "      <th></th>\n",
       "      <th>age</th>\n",
       "      <th>sex</th>\n",
       "      <th>cp</th>\n",
       "      <th>trtbps</th>\n",
       "      <th>chol</th>\n",
       "      <th>fbs</th>\n",
       "      <th>restecg</th>\n",
       "      <th>thalachh</th>\n",
       "      <th>exng</th>\n",
       "      <th>oldpeak</th>\n",
       "      <th>slp</th>\n",
       "      <th>caa</th>\n",
       "      <th>thall</th>\n",
       "      <th>output</th>\n",
       "    </tr>\n",
       "  </thead>\n",
       "  <tbody>\n",
       "    <tr>\n",
       "      <th>0</th>\n",
       "      <td>63</td>\n",
       "      <td>1</td>\n",
       "      <td>3</td>\n",
       "      <td>145</td>\n",
       "      <td>233</td>\n",
       "      <td>1</td>\n",
       "      <td>0</td>\n",
       "      <td>150</td>\n",
       "      <td>0</td>\n",
       "      <td>2.3</td>\n",
       "      <td>0</td>\n",
       "      <td>0</td>\n",
       "      <td>1</td>\n",
       "      <td>1</td>\n",
       "    </tr>\n",
       "    <tr>\n",
       "      <th>1</th>\n",
       "      <td>37</td>\n",
       "      <td>1</td>\n",
       "      <td>2</td>\n",
       "      <td>130</td>\n",
       "      <td>250</td>\n",
       "      <td>0</td>\n",
       "      <td>1</td>\n",
       "      <td>187</td>\n",
       "      <td>0</td>\n",
       "      <td>3.5</td>\n",
       "      <td>0</td>\n",
       "      <td>0</td>\n",
       "      <td>2</td>\n",
       "      <td>1</td>\n",
       "    </tr>\n",
       "    <tr>\n",
       "      <th>2</th>\n",
       "      <td>41</td>\n",
       "      <td>0</td>\n",
       "      <td>1</td>\n",
       "      <td>130</td>\n",
       "      <td>204</td>\n",
       "      <td>0</td>\n",
       "      <td>0</td>\n",
       "      <td>172</td>\n",
       "      <td>0</td>\n",
       "      <td>1.4</td>\n",
       "      <td>2</td>\n",
       "      <td>0</td>\n",
       "      <td>2</td>\n",
       "      <td>1</td>\n",
       "    </tr>\n",
       "    <tr>\n",
       "      <th>3</th>\n",
       "      <td>56</td>\n",
       "      <td>1</td>\n",
       "      <td>1</td>\n",
       "      <td>120</td>\n",
       "      <td>236</td>\n",
       "      <td>0</td>\n",
       "      <td>1</td>\n",
       "      <td>178</td>\n",
       "      <td>0</td>\n",
       "      <td>0.8</td>\n",
       "      <td>2</td>\n",
       "      <td>0</td>\n",
       "      <td>2</td>\n",
       "      <td>1</td>\n",
       "    </tr>\n",
       "    <tr>\n",
       "      <th>4</th>\n",
       "      <td>57</td>\n",
       "      <td>0</td>\n",
       "      <td>0</td>\n",
       "      <td>120</td>\n",
       "      <td>354</td>\n",
       "      <td>0</td>\n",
       "      <td>1</td>\n",
       "      <td>163</td>\n",
       "      <td>1</td>\n",
       "      <td>0.6</td>\n",
       "      <td>2</td>\n",
       "      <td>0</td>\n",
       "      <td>2</td>\n",
       "      <td>1</td>\n",
       "    </tr>\n",
       "    <tr>\n",
       "      <th>...</th>\n",
       "      <td>...</td>\n",
       "      <td>...</td>\n",
       "      <td>...</td>\n",
       "      <td>...</td>\n",
       "      <td>...</td>\n",
       "      <td>...</td>\n",
       "      <td>...</td>\n",
       "      <td>...</td>\n",
       "      <td>...</td>\n",
       "      <td>...</td>\n",
       "      <td>...</td>\n",
       "      <td>...</td>\n",
       "      <td>...</td>\n",
       "      <td>...</td>\n",
       "    </tr>\n",
       "    <tr>\n",
       "      <th>298</th>\n",
       "      <td>57</td>\n",
       "      <td>0</td>\n",
       "      <td>0</td>\n",
       "      <td>140</td>\n",
       "      <td>241</td>\n",
       "      <td>0</td>\n",
       "      <td>1</td>\n",
       "      <td>123</td>\n",
       "      <td>1</td>\n",
       "      <td>0.2</td>\n",
       "      <td>1</td>\n",
       "      <td>0</td>\n",
       "      <td>3</td>\n",
       "      <td>0</td>\n",
       "    </tr>\n",
       "    <tr>\n",
       "      <th>299</th>\n",
       "      <td>45</td>\n",
       "      <td>1</td>\n",
       "      <td>3</td>\n",
       "      <td>110</td>\n",
       "      <td>264</td>\n",
       "      <td>0</td>\n",
       "      <td>1</td>\n",
       "      <td>132</td>\n",
       "      <td>0</td>\n",
       "      <td>1.2</td>\n",
       "      <td>1</td>\n",
       "      <td>0</td>\n",
       "      <td>3</td>\n",
       "      <td>0</td>\n",
       "    </tr>\n",
       "    <tr>\n",
       "      <th>300</th>\n",
       "      <td>68</td>\n",
       "      <td>1</td>\n",
       "      <td>0</td>\n",
       "      <td>144</td>\n",
       "      <td>193</td>\n",
       "      <td>1</td>\n",
       "      <td>1</td>\n",
       "      <td>141</td>\n",
       "      <td>0</td>\n",
       "      <td>3.4</td>\n",
       "      <td>1</td>\n",
       "      <td>2</td>\n",
       "      <td>3</td>\n",
       "      <td>0</td>\n",
       "    </tr>\n",
       "    <tr>\n",
       "      <th>301</th>\n",
       "      <td>57</td>\n",
       "      <td>1</td>\n",
       "      <td>0</td>\n",
       "      <td>130</td>\n",
       "      <td>131</td>\n",
       "      <td>0</td>\n",
       "      <td>1</td>\n",
       "      <td>115</td>\n",
       "      <td>1</td>\n",
       "      <td>1.2</td>\n",
       "      <td>1</td>\n",
       "      <td>1</td>\n",
       "      <td>3</td>\n",
       "      <td>0</td>\n",
       "    </tr>\n",
       "    <tr>\n",
       "      <th>302</th>\n",
       "      <td>57</td>\n",
       "      <td>0</td>\n",
       "      <td>1</td>\n",
       "      <td>130</td>\n",
       "      <td>236</td>\n",
       "      <td>0</td>\n",
       "      <td>0</td>\n",
       "      <td>174</td>\n",
       "      <td>0</td>\n",
       "      <td>0.0</td>\n",
       "      <td>1</td>\n",
       "      <td>1</td>\n",
       "      <td>2</td>\n",
       "      <td>0</td>\n",
       "    </tr>\n",
       "  </tbody>\n",
       "</table>\n",
       "<p>303 rows × 14 columns</p>\n",
       "</div>"
      ],
      "text/plain": [
       "     age  sex  cp  trtbps  chol  fbs  restecg  thalachh  exng  oldpeak  slp  \\\n",
       "0     63    1   3     145   233    1        0       150     0      2.3    0   \n",
       "1     37    1   2     130   250    0        1       187     0      3.5    0   \n",
       "2     41    0   1     130   204    0        0       172     0      1.4    2   \n",
       "3     56    1   1     120   236    0        1       178     0      0.8    2   \n",
       "4     57    0   0     120   354    0        1       163     1      0.6    2   \n",
       "..   ...  ...  ..     ...   ...  ...      ...       ...   ...      ...  ...   \n",
       "298   57    0   0     140   241    0        1       123     1      0.2    1   \n",
       "299   45    1   3     110   264    0        1       132     0      1.2    1   \n",
       "300   68    1   0     144   193    1        1       141     0      3.4    1   \n",
       "301   57    1   0     130   131    0        1       115     1      1.2    1   \n",
       "302   57    0   1     130   236    0        0       174     0      0.0    1   \n",
       "\n",
       "     caa  thall  output  \n",
       "0      0      1       1  \n",
       "1      0      2       1  \n",
       "2      0      2       1  \n",
       "3      0      2       1  \n",
       "4      0      2       1  \n",
       "..   ...    ...     ...  \n",
       "298    0      3       0  \n",
       "299    0      3       0  \n",
       "300    2      3       0  \n",
       "301    1      3       0  \n",
       "302    1      2       0  \n",
       "\n",
       "[303 rows x 14 columns]"
      ]
     },
     "execution_count": 26,
     "metadata": {},
     "output_type": "execute_result"
    }
   ],
   "source": [
    "dataset"
   ]
  },
  {
   "cell_type": "code",
   "execution_count": 27,
   "id": "63520ecc",
   "metadata": {},
   "outputs": [
    {
     "data": {
      "text/plain": [
       "array([1, 0, 1, 1, 0, 0, 1, 1, 0, 1, 0, 1, 0, 0, 1, 1, 0, 1, 0, 0, 1, 1,\n",
       "       0, 0, 0, 1, 1, 0, 0, 1, 1, 1, 0, 0, 0, 0, 1, 0, 0, 0, 1, 0, 0, 0,\n",
       "       1, 0, 0, 1, 1, 1, 1, 1, 1, 0, 0, 0, 0, 1, 1, 0, 1, 0, 1, 1, 1, 1,\n",
       "       1, 1, 1, 1, 0, 1, 0, 0, 1, 1], dtype=int64)"
      ]
     },
     "execution_count": 27,
     "metadata": {},
     "output_type": "execute_result"
    }
   ],
   "source": [
    "results = y_valid.values\n",
    "results"
   ]
  },
  {
   "cell_type": "code",
   "execution_count": null,
   "id": "f988995f",
   "metadata": {},
   "outputs": [],
   "source": [
    "for i in range(76):\n",
    "    print(f'Our prediction {predictions[i]} versus reality {results[i]}')"
   ]
  },
  {
   "cell_type": "code",
   "execution_count": null,
   "id": "a745b004",
   "metadata": {},
   "outputs": [],
   "source": [
    "predictions.shape"
   ]
  },
  {
   "cell_type": "code",
   "execution_count": null,
   "id": "be8d435d",
   "metadata": {},
   "outputs": [],
   "source": [
    "predictions"
   ]
  },
  {
   "cell_type": "code",
   "execution_count": null,
   "id": "0fc24843",
   "metadata": {},
   "outputs": [],
   "source": []
  },
  {
   "cell_type": "code",
   "execution_count": null,
   "id": "5c33e9ef",
   "metadata": {},
   "outputs": [],
   "source": []
  }
 ],
 "metadata": {
  "kernelspec": {
   "display_name": "Python 3",
   "language": "python",
   "name": "python3"
  },
  "language_info": {
   "codemirror_mode": {
    "name": "ipython",
    "version": 3
   },
   "file_extension": ".py",
   "mimetype": "text/x-python",
   "name": "python",
   "nbconvert_exporter": "python",
   "pygments_lexer": "ipython3",
   "version": "3.8.8"
  }
 },
 "nbformat": 4,
 "nbformat_minor": 5
}
